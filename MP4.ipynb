{
 "cells": [
  {
   "cell_type": "markdown",
   "metadata": {},
   "source": [
    "--------------------------------------------------------------------------------------\n",
    "\n",
    "* Team member names: Kevin Wong, Lukas Fullner\n",
    "* Team member IDs: A17280855\n",
    "\n",
    "--------------------------------------------------------------------------------------"
   ]
  },
  {
   "cell_type": "markdown",
   "metadata": {},
   "source": [
    "# Mini-project 4, DSC 170, Winter 2025\n",
    "\n",
    "# Suitability Modeling\n",
    "\n",
    "This project will focus on __suitability analysis__ with raster data. Your tasks will be both conceptual-level and technical. \n",
    "\n",
    "There are three parts to this assignment.\n",
    "\n",
    "1. At the conceptual level, you will define a suitability model of your choice, for an area of your choice (preferably San Diego, because we already have worked with some local data). Consult the lectures on map combination, and also see https://pro.arcgis.com/en/pro-app/latest/help/analysis/spatial-analyst/suitability-modeler/the-general-suitability-modeling-workflow.htm for a brief description of what a suitability model is. For example, you may be looking for best areas for community gardens. Such areas are often selected from underutilized land in residential land uses, with good soils, good drainage, accessible (not steep slope), etc. So you would be looking for areas with a specific type of land use/land cover, with an appropriate range of values of slope, etc. You may build additional criteria based on a range of precipitaiton values, whether the area is affected by wildfires, or has low levels of soil erosion, etc. Feel free to use the imagery layers we explored or mentioned during raster-focused lectures. Several cells in lecture notebooks contained URLs to imagery layer collections available through AGOL - but feel free to find more. Also, feel free to download additional raster layers from elsewhere (an example in lecture demonstrates how to do this from the USGS image repository, and also how to get Sentinel-2 from ESA), publish them on ArcGIS Enterprise, and use in your model. \n",
    "\n",
    "You can use any __two__ of the <i>map combination</i> techniques discussed during lectures. You should identify the ones you use and discuss any uncertainty issues associated with these specific map combination models. \n",
    "\n",
    "As the outcome of this part, you will need to: a) describe the suitability model you want to develop; b) identify the raster data layers you will use; and c) describe two of the map combination techniques you will use to derive the two suitablity maps, and their pros and cons.\n",
    "\n",
    "2. The second part will involve implementing your suitability model using arcgis raster functions. Many of these functions are new and experimental! Examples of what works are in the lecture notebooks. Be creative!    \n",
    "\n",
    "3. The third part will be a brief write-up comparing the two output rasters generated for the suitability models using the two map combination techniques. \n",
    "\n",
    "The notebook should include documentation of the steps, as usually.\n",
    "\n",
    "\n",
    "\n",
    "**Due Date: 03/01/2025 11:59PM (Pacific Time)**\n",
    "\n",
    "**Total Possible Points: 30 Pts**"
   ]
  },
  {
   "cell_type": "markdown",
   "metadata": {},
   "source": [
    "## Task 1: Formulate a suitability or risk model (5 points)"
   ]
  },
  {
   "cell_type": "markdown",
   "metadata": {},
   "source": [
    "Your text here (about 100 words)\n",
    "\n",
    "To help identify possible locations for public parks in San Diego, we could look at a few options, including Population Density and Demographics (Areas with high population density and little park access), neighborhoods with more seniors and children, and more. We could also look at park distribution (areas beyond walking distance of parks), and check for availability of land in case we could repurpose public land. Some physical characteristics that we would typically look for would be flat lane (slope), decent soil quality, with good drainage and accessibility. Additionally, we could think about accessibility, with proximity to homes, public transportation, bike lanes, and walkability of the neighborhoods surrounding the area. \n",
    "\n",
    "Some map combination techniques we could use include a weighted linear combination to balance the social need of a community versus the physical suitability of the land. We could also use Boolean Overlay to help determine areas that aren't risk to fires or floods, which would help narrow down areas that we would like to use."
   ]
  },
  {
   "cell_type": "markdown",
   "metadata": {},
   "source": [
    "## Task 2: Implement the model (20 points)"
   ]
  },
  {
   "cell_type": "code",
   "execution_count": 1,
   "metadata": {},
   "outputs": [],
   "source": [
    "# Imports, etc.\n",
    "import arcgis\n",
    "import arcgiskey\n",
    "from arcgis.gis import GIS\n",
    "from arcgis.geometry import *\n",
    "from arcgis.raster.functions import *\n",
    "from ipywidgets import *\n",
    "import graphviz\n",
    "from IPython.display import display\n",
    "\n",
    "gis = GIS(username = arcgiskey.USERNAME, password = arcgiskey.PASSWORD)"
   ]
  },
  {
   "cell_type": "code",
   "execution_count": 70,
   "metadata": {},
   "outputs": [],
   "source": [
    "# List imagery layers to be used in your model. \n",
    "# This cell should contian layer definitions.\n",
    "usa_landcover_gap = ImageryLayer(\n",
    "    \"https://landscape3.arcgis.com/arcgis/rest/services/USA_Landcover_GAP/ImageServer\",\n",
    "    gis,\n",
    ")\n",
    "usa_soil_erosion = ImageryLayer(\n",
    "    \"https://landscape11.arcgis.com/arcgis/rest/services/USA_Soils_Erosion_Class/ImageServer\",\n",
    "    gis,\n",
    ")\n",
    "usa_elevation = ImageryLayer(\n",
    "    \"https://elevation.arcgis.com/arcgis/rest/services/WorldElevation/Terrain/ImageServer\",\n",
    "    gis,\n",
    ")\n",
    "usa_federal_lands = ImageryLayer(\n",
    "    \"https://landscape10.arcgis.com/arcgis/rest/services/USA_Federal_Lands/ImageServer\",\n",
    "    gis,\n",
    ")\n",
    "usa_flood_hazard = ImageryLayer(\n",
    "    \"https://landscape11.arcgis.com/arcgis/rest/services/USA_Flood_Hazard_Areas/ImageServer\",\n",
    "    gis,\n",
    ")\n"
   ]
  },
  {
   "cell_type": "code",
   "execution_count": 47,
   "metadata": {},
   "outputs": [],
   "source": [
    "# Derive the area of interest (AOI) and its geometry and extent. \n",
    "# The smaller the area the better (so that you don't run into raster size limitations)\n",
    "\n",
    "# set the geometry and boundary extent for San Diego county specifically\n",
    "counties = gis.content.search(\"USA Counties generalized\", \"Feature Layer\", outside_org=True)[4]\n",
    "county_layer = counties.layers[0]\n",
    "county = county_layer.query(\"NAME = 'San Diego County'\", return_geomtry = True)\n",
    "san_diego_geometry = county.features[0].geometry\n",
    "san_diego_geometry['spatialRef'] = san_diego_geometry['spatialReference']\n",
    "san_diego_extent = Geometry(san_diego_geometry).geoextent\n",
    "\n",
    "# create the extent as a tuple\n",
    "tup = (\n",
    "    (\"xmin\", san_diego_extent[0]),\n",
    "    (\"ymin\", san_diego_extent[1]),\n",
    "    (\"xmax\", san_diego_extent[2]),\n",
    "    (\"ymax\", san_diego_extent[3]),\n",
    ")\n",
    "sd_ex = dict(tup)\n",
    "\n",
    "# 2d: to be correcter, let's also add CRS:\n",
    "crs = \"{'latestwkid':3857, 'wkid':102100}\"\n",
    "sd_ex.update({\"spatialReference\": {\"latestwkid\": 3857, \"wkid\": 102100}})"
   ]
  },
  {
   "cell_type": "code",
   "execution_count": 71,
   "metadata": {},
   "outputs": [],
   "source": [
    "# Set the extent if needed\n",
    "# San Diego Land Cover Gap\n",
    "usa_landcover_gap.extent = sd_ex\n",
    "sd_lcg = clip(usa_landcover_gap, san_diego_geometry)\n",
    "\n",
    "# USA Soil Erosion\n",
    "usa_soil_erosion.extent = sd_ex\n",
    "sd_se = clip(raster = usa_soil_erosion, geometry = san_diego_geometry)\n",
    "\n",
    "# USA Elevation\n",
    "usa_elevation.extent = sd_ex\n",
    "sd_elev = clip(raster = usa_elevation, geometry = san_diego_geometry)\n",
    "\n",
    "# USA Federal Lands\n",
    "usa_federal_lands.extent = sd_ex\n",
    "sd_fl = clip(raster = usa_federal_lands, geometry = san_diego_geometry)\n",
    "\n",
    "# USA Flood Hazard\n",
    "usa_flood_hazard.extent = sd_ex\n",
    "sd_fh = clip(raster = usa_flood_hazard, geometry = san_diego_geometry)"
   ]
  },
  {
   "cell_type": "code",
   "execution_count": 72,
   "metadata": {},
   "outputs": [
    {
     "data": {
      "application/vnd.jupyter.widget-view+json": {
       "model_id": "bfbcbf56b73c47558006c893ac145ad2",
       "version_major": 2,
       "version_minor": 1
      },
      "text/plain": [
       "Map(center=[3899047.926834046, -12998800.702954108], extent={'xmin': -13068598.023681488, 'ymin': 3816090.6311…"
      ]
     },
     "execution_count": 72,
     "metadata": {},
     "output_type": "execute_result"
    }
   ],
   "source": [
    "map1 = gis.map(\"San Diego County, CA\")\n",
    "map1.content.add(sd_fh)\n",
    "map1"
   ]
  },
  {
   "cell_type": "markdown",
   "metadata": {},
   "source": [
    "### Name the two map combination techniques you will use to combine the data and describe their pros and cons"
   ]
  },
  {
   "cell_type": "markdown",
   "metadata": {},
   "source": [
    "Your text here "
   ]
  },
  {
   "cell_type": "code",
   "execution_count": null,
   "metadata": {},
   "outputs": [],
   "source": [
    "# Prepare your input layers for map combination: clip to AOI, remap/normalize, visualize the layers. \n"
   ]
  },
  {
   "cell_type": "code",
   "execution_count": null,
   "metadata": {},
   "outputs": [],
   "source": [
    "# Generate a composite raster layer for your first map combination technique\n"
   ]
  },
  {
   "cell_type": "code",
   "execution_count": null,
   "metadata": {},
   "outputs": [],
   "source": [
    "# Generate a composite raster layer for your second map combination technique\n"
   ]
  },
  {
   "cell_type": "markdown",
   "metadata": {},
   "source": [
    "## Task 3: Compare the results (5 points)\n",
    "... and describe how different combination techniques resulted in different outputs (or not.) "
   ]
  },
  {
   "cell_type": "markdown",
   "metadata": {},
   "source": [
    "Your text here\n"
   ]
  },
  {
   "cell_type": "code",
   "execution_count": null,
   "metadata": {},
   "outputs": [],
   "source": [
    "## Timekeeping\n",
    "# Please let us know how much time you spent on this project, in hours: \n",
    "# (we will only examine distributions and won't look at individual responses)\n",
    "\n",
    "assignment_timespent = 0"
   ]
  },
  {
   "cell_type": "code",
   "execution_count": null,
   "metadata": {},
   "outputs": [],
   "source": []
  }
 ],
 "metadata": {
  "kernelspec": {
   "display_name": "base",
   "language": "python",
   "name": "python3"
  },
  "language_info": {
   "codemirror_mode": {
    "name": "ipython",
    "version": 3
   },
   "file_extension": ".py",
   "mimetype": "text/x-python",
   "name": "python",
   "nbconvert_exporter": "python",
   "pygments_lexer": "ipython3",
   "version": "3.12.2"
  },
  "toc": {
   "base_numbering": 1,
   "nav_menu": {},
   "number_sections": false,
   "sideBar": true,
   "skip_h1_title": true,
   "title_cell": "Table of Contents",
   "title_sidebar": "Contents",
   "toc_cell": false,
   "toc_position": {},
   "toc_section_display": true,
   "toc_window_display": true
  }
 },
 "nbformat": 4,
 "nbformat_minor": 4
}
