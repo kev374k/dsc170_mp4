{
 "cells": [
  {
   "cell_type": "markdown",
   "metadata": {},
   "source": [
    "--------------------------------------------------------------------------------------\n",
    "\n",
    "* Team member names: Kevin Wong, Lukas Fullner\n",
    "* Team member IDs: A17280855, A16945107\n",
    "\n",
    "--------------------------------------------------------------------------------------"
   ]
  },
  {
   "cell_type": "markdown",
   "metadata": {},
   "source": [
    "# Mini-project 4, DSC 170, Winter 2025\n",
    "\n",
    "# Suitability Modeling\n",
    "\n",
    "This project will focus on __suitability analysis__ with raster data. Your tasks will be both conceptual-level and technical. \n",
    "\n",
    "There are three parts to this assignment.\n",
    "\n",
    "1. At the conceptual level, you will define a suitability model of your choice, for an area of your choice (preferably San Diego, because we already have worked with some local data). Consult the lectures on map combination, and also see https://pro.arcgis.com/en/pro-app/latest/help/analysis/spatial-analyst/suitability-modeler/the-general-suitability-modeling-workflow.htm for a brief description of what a suitability model is. For example, you may be looking for best areas for community gardens. Such areas are often selected from underutilized land in residential land uses, with good soils, good drainage, accessible (not steep slope), etc. So you would be looking for areas with a specific type of land use/land cover, with an appropriate range of values of slope, etc. You may build additional criteria based on a range of precipitaiton values, whether the area is affected by wildfires, or has low levels of soil erosion, etc. Feel free to use the imagery layers we explored or mentioned during raster-focused lectures. Several cells in lecture notebooks contained URLs to imagery layer collections available through AGOL - but feel free to find more. Also, feel free to download additional raster layers from elsewhere (an example in lecture demonstrates how to do this from the USGS image repository, and also how to get Sentinel-2 from ESA), publish them on ArcGIS Enterprise, and use in your model. \n",
    "\n",
    "You can use any __two__ of the <i>map combination</i> techniques discussed during lectures. You should identify the ones you use and discuss any uncertainty issues associated with these specific map combination models. \n",
    "\n",
    "As the outcome of this part, you will need to: a) describe the suitability model you want to develop; b) identify the raster data layers you will use; and c) describe two of the map combination techniques you will use to derive the two suitablity maps, and their pros and cons.\n",
    "\n",
    "2. The second part will involve implementing your suitability model using arcgis raster functions. Many of these functions are new and experimental! Examples of what works are in the lecture notebooks. Be creative!    \n",
    "\n",
    "3. The third part will be a brief write-up comparing the two output rasters generated for the suitability models using the two map combination techniques. \n",
    "\n",
    "The notebook should include documentation of the steps, as usually.\n",
    "\n",
    "\n",
    "\n",
    "**Due Date: 03/01/2025 11:59PM (Pacific Time)**\n",
    "\n",
    "**Total Possible Points: 30 Pts**"
   ]
  },
  {
   "cell_type": "markdown",
   "metadata": {},
   "source": [
    "## Task 1: Formulate a suitability or risk model (5 points)"
   ]
  },
  {
   "cell_type": "markdown",
   "metadata": {},
   "source": [
    "Your text here (about 100 words)\n",
    "\n",
    "To help identify possible locations for public parks in San Diego, we could look at a few options, including Population Density and Demographics (Areas with high population density and little park access), neighborhoods with more seniors and children, and more. We could also look at park distribution (areas beyond walking distance of parks), and check for availability of land in case we could repurpose public land. Some physical characteristics that we would typically look for would be flat lane (slope), decent soil quality, with good drainage and accessibility. Additionally, we could think about accessibility, with proximity to homes, public transportation, bike lanes, and walkability of the neighborhoods surrounding the area. \n",
    "\n",
    "Some map combination techniques we could use include a weighted linear combination to balance the social need of a community versus the physical suitability of the land. We could also use Boolean Overlay to help determine areas that aren't risk to fires or floods, which would help narrow down areas that we would like to use."
   ]
  },
  {
   "cell_type": "markdown",
   "metadata": {},
   "source": [
    "## Task 2: Implement the model (20 points)"
   ]
  },
  {
   "cell_type": "code",
   "execution_count": 77,
   "metadata": {},
   "outputs": [],
   "source": [
    "# Imports, etc.\n",
    "import arcgis\n",
    "import arcgiskey\n",
    "from arcgis.gis import GIS\n",
    "from arcgis.geometry import *\n",
    "from arcgis.raster.functions import *\n",
    "from ipywidgets import *\n",
    "import graphviz\n",
    "from IPython.display import display\n",
    "from arcgis.raster.functions import stretch\n",
    "\n",
    "gis = GIS(username = arcgiskey.USERNAME, password = arcgiskey.PASSWORD)"
   ]
  },
  {
   "cell_type": "code",
   "execution_count": 2,
   "metadata": {},
   "outputs": [],
   "source": [
    "# List imagery layers to be used in your model. \n",
    "# This cell should contian layer definitions.\n",
    "usa_landcover_gap = ImageryLayer(\n",
    "    \"https://landscape3.arcgis.com/arcgis/rest/services/USA_Landcover_GAP/ImageServer\",\n",
    "    gis,\n",
    ")\n",
    "usa_soil_erosion = ImageryLayer(\n",
    "    \"https://landscape11.arcgis.com/arcgis/rest/services/USA_Soils_Erosion_Class/ImageServer\",\n",
    "    gis,\n",
    ")\n",
    "usa_soil_erodibility = ImageryLayer(\n",
    "    \"https://landscape11.arcgis.com/arcgis/rest/services/USA_Soils_Erodibility_Factor/ImageServer\",\n",
    "    gis\n",
    ")\n",
    "usa_elevation = ImageryLayer(\n",
    "    \"https://elevation.arcgis.com/arcgis/rest/services/WorldElevation/Terrain/ImageServer\",\n",
    "    gis,\n",
    ")\n",
    "usa_federal_lands = ImageryLayer(\n",
    "    \"https://landscape10.arcgis.com/arcgis/rest/services/USA_Federal_Lands/ImageServer\",\n",
    "    gis,\n",
    ")\n",
    "usa_flood_hazard = ImageryLayer(\n",
    "    \"https://landscape11.arcgis.com/arcgis/rest/services/USA_Flood_Hazard_Areas/ImageServer\",\n",
    "    gis,\n",
    ")\n"
   ]
  },
  {
   "cell_type": "code",
   "execution_count": 3,
   "metadata": {},
   "outputs": [],
   "source": [
    "# Derive the area of interest (AOI) and its geometry and extent. \n",
    "# The smaller the area the better (so that you don't run into raster size limitations)\n",
    "\n",
    "# set the geometry and boundary extent for San Diego county specifically\n",
    "counties = gis.content.search(\"USA Counties generalized\", \"Feature Layer\", outside_org=True)[4]\n",
    "county_layer = counties.layers[0]\n",
    "county = county_layer.query(\"NAME = 'San Diego County'\", return_geomtry = True)\n",
    "san_diego_geometry = county.features[0].geometry\n",
    "san_diego_geometry['spatialRef'] = san_diego_geometry['spatialReference']\n",
    "san_diego_extent = Geometry(san_diego_geometry).geoextent\n",
    "\n",
    "# create the extent as a tuple\n",
    "tup = (\n",
    "    (\"xmin\", san_diego_extent[0]),\n",
    "    (\"ymin\", san_diego_extent[1]),\n",
    "    (\"xmax\", san_diego_extent[2]),\n",
    "    (\"ymax\", san_diego_extent[3]),\n",
    ")\n",
    "sd_ex = dict(tup)\n",
    "\n",
    "# 2d: to be correcter, let's also add CRS:\n",
    "crs = \"{'latestwkid':3857, 'wkid':102100}\"\n",
    "sd_ex.update({\"spatialReference\": {\"latestwkid\": 3857, \"wkid\": 102100}})"
   ]
  },
  {
   "cell_type": "code",
   "execution_count": 4,
   "metadata": {},
   "outputs": [],
   "source": [
    "# Set the extent if needed\n",
    "# San Diego Land Cover Gap\n",
    "usa_landcover_gap.extent = sd_ex\n",
    "sd_lcg = clip(usa_landcover_gap, san_diego_geometry)\n",
    "\n",
    "# USA Soil Erosion\n",
    "usa_soil_erosion.extent = sd_ex\n",
    "sd_se = clip(raster = usa_soil_erosion, geometry = san_diego_geometry)\n",
    "\n",
    "# USA Soil Erodibility\n",
    "usa_soil_erodibility.extent = sd_ex\n",
    "sd_er = clip(raster = usa_soil_erodibility, geometry = san_diego_geometry)\n",
    "\n",
    "# USA Elevation\n",
    "usa_elevation.extent = sd_ex\n",
    "sd_elev = clip(raster = usa_elevation, geometry = san_diego_geometry)\n",
    "\n",
    "# USA Federal Lands\n",
    "usa_federal_lands.extent = sd_ex\n",
    "sd_fl = clip(raster = usa_federal_lands, geometry = san_diego_geometry)\n",
    "\n",
    "# USA Flood Hazard\n",
    "usa_flood_hazard.extent = sd_ex\n",
    "sd_fh = clip(raster = usa_flood_hazard, geometry = san_diego_geometry)"
   ]
  },
  {
   "cell_type": "code",
   "execution_count": 135,
   "metadata": {},
   "outputs": [],
   "source": [
    "# Remap and Normalize the Outputs of each layer\n",
    "# Remap the Land Cover Gap layer\n",
    "# For the Land Cover Gaps, we will remap the values to the following classes:\n",
    "# Shrubland & Grassland, Agricultural Vegatation, Introduced & Semi Natural Vegatation, Recently Disturbed or Mofidified, and Developed & Other Human Use to Green\n",
    "# Forest & Woodland, Semi_deset, Polar & High Montane Vegetation Vegatation, Aquatic Vegetation, and Nonvascular * Sparse Vacular Rock Vegetation & Opem Water to Red\n",
    "clrmap2 = [[0, 227, 59, 59], [1, 77, 170, 87]]\n",
    "sd_lcg_norm = remap(\n",
    "    raster=sd_lcg,\n",
    "    input_ranges=[1.0,289.0, 290.0,459.0, 460.0,499.0, 500.0,507.0, 508.0,513.0,\n",
    "                   514.0,554.0, 555.0,557.0, 558.0,563.0, 564.0,576.0,\n",
    "                     577.0,579.0, 580.0,585.0],\n",
    "    output_values=[0, 1, 0, 0, 0, 0, 1, 1, 1, 0, 1]\n",
    ")\n",
    "sd_lcg_binary = colormap(sd_lcg_norm, colormap=clrmap2)\n"
   ]
  },
  {
   "cell_type": "code",
   "execution_count": 6,
   "metadata": {},
   "outputs": [
    {
     "data": {
      "application/vnd.jupyter.widget-view+json": {
       "model_id": "c31e4ad8763a4205a6d124b2af456473",
       "version_major": 2,
       "version_minor": 1
      },
      "text/plain": [
       "Map(center=[3899047.926834046, -12998800.702954108], extent={'xmin': -13068598.023681488, 'ymin': 3816090.6311…"
      ]
     },
     "execution_count": 6,
     "metadata": {},
     "output_type": "execute_result"
    }
   ],
   "source": [
    "map2 = gis.map(\"San Diego County\")\n",
    "map2.content.add(sd_lcg_binary)\n",
    "map2"
   ]
  },
  {
   "cell_type": "code",
   "execution_count": 7,
   "metadata": {},
   "outputs": [
    {
     "data": {
      "application/vnd.jupyter.widget-view+json": {
       "model_id": "927922967be648ebb1b92e943c12770e",
       "version_major": 2,
       "version_minor": 1
      },
      "text/plain": [
       "Map(center=[3899047.926834046, -12998800.702954108], extent={'xmin': -13068598.023681488, 'ymin': 3816090.6311…"
      ]
     },
     "execution_count": 7,
     "metadata": {},
     "output_type": "execute_result"
    }
   ],
   "source": [
    "# Create the Slope Layer from Elevation\n",
    "slope_lyr = slope(dem=sd_elev, slope_type='DEGREE', z_factor=10)\n",
    "slope_map = gis.map(\"San Diego County, CA\")\n",
    "slope_map.content.add(slope_lyr)\n",
    "slope_map"
   ]
  },
  {
   "cell_type": "code",
   "execution_count": 129,
   "metadata": {},
   "outputs": [],
   "source": [
    "# define a slope cutoff for binary usage\n",
    "mid = 45 #Slope cutoff (in degrees)\n",
    "\n",
    "slope_binary = remap(\n",
    "    raster=slope_lyr,\n",
    "    input_ranges=[-450,mid, mid,8700],\n",
    "    output_values=[1, 0],\n",
    ")\n",
    "slope_b_c = colormap(slope_binary, colormap=clrmap2)"
   ]
  },
  {
   "cell_type": "code",
   "execution_count": null,
   "metadata": {},
   "outputs": [
    {
     "data": {
      "application/vnd.jupyter.widget-view+json": {
       "model_id": "decbf10ad18d473a91aa14caca9d9ee2",
       "version_major": 2,
       "version_minor": 1
      },
      "text/plain": [
       "Map(center=[3899047.926834046, -12998800.702954108], extent={'xmin': -13068598.023681488, 'ymin': 3816090.6311…"
      ]
     },
     "execution_count": 9,
     "metadata": {},
     "output_type": "execute_result"
    }
   ],
   "source": [
    "slope_map_c = gis.map(\"San Diego County, CA\")\n",
    "slope_map_c.content.add(slope_b_c)\n",
    "slope_map_c"
   ]
  },
  {
   "cell_type": "code",
   "execution_count": 10,
   "metadata": {},
   "outputs": [],
   "source": [
    "# define a slope rule for non-binary usage\n",
    "clrmap9 = [[9, 230, 0, 0], [8, 242, 85, 0], [7, 250, 142, 0], [6, 255, 195, 0], [5, 255, 255, 0], [4, 197, 219, 0],  \n",
    "          [3, 139, 181, 0], [2, 86, 148, 0], [1, 38, 115, 0]]\n",
    "\n",
    "slope_bands = remap(\n",
    "    raster=slope_lyr,\n",
    "    input_ranges=[-450,10, 10,20, 20,30, 30,40, 40,50, 50,60, 60,70, 70,80, 80,8700],\n",
    "    output_values=[9, 8, 7, 6, 5, 4, 3, 2, 1],\n",
    ")\n",
    "slope_banded = colormap(slope_bands, colormap=clrmap9)"
   ]
  },
  {
   "cell_type": "code",
   "execution_count": 11,
   "metadata": {},
   "outputs": [
    {
     "data": {
      "application/vnd.jupyter.widget-view+json": {
       "model_id": "bf96d0ad12a947bc8d5429edc84cbfc8",
       "version_major": 2,
       "version_minor": 1
      },
      "text/plain": [
       "Map(center=[3899047.926834046, -12998800.702954108], extent={'xmin': -13068598.023681488, 'ymin': 3816090.6311…"
      ]
     },
     "execution_count": 11,
     "metadata": {},
     "output_type": "execute_result"
    }
   ],
   "source": [
    "slope_map_b = gis.map(\"San Diego County, CA\")\n",
    "slope_map_b.content.add(slope_banded)\n",
    "slope_map_b"
   ]
  },
  {
   "cell_type": "code",
   "execution_count": 12,
   "metadata": {},
   "outputs": [],
   "source": [
    "# map the errosion level of the soil to both a binary and non-binary set of rules\n",
    "clrmap5 = [[9, 230, 0, 0], [7, 250, 142, 0], [5, 255, 255, 0], [3, 139, 181, 0], [1, 38, 115, 0]]\n",
    "\n",
    "#map each errosion level to a band\n",
    "erroded_norm = remap(\n",
    "    raster=sd_se,\n",
    "    input_ranges=[0.5,1.5, 1.5,2.5, 2.5,3.5, 3.5,4.5, 4.5,5.5],\n",
    "    output_values=[5, 4, 3, 2, 1],\n",
    ")\n",
    "er_bands = colormap(erroded_norm, colormap=clrmap5)\n",
    "\n",
    "#mapping all errosion levels to 1 to exclude any area with errosion (could change it to allow 1-25% if its not an issue)\n",
    "erroded_binary = remap(\n",
    "    raster=sd_se,\n",
    "    input_ranges=[1,1, 1,2, 2,3, 3,4, 4,5],\n",
    "    output_values=[0, 0, 0, 0, 0],\n",
    ")\n",
    "er_binary = colormap(erroded_binary, colormap=clrmap2)"
   ]
  },
  {
   "cell_type": "code",
   "execution_count": 13,
   "metadata": {},
   "outputs": [
    {
     "data": {
      "application/vnd.jupyter.widget-view+json": {
       "model_id": "c9016d8b5efa43018676d56750f85666",
       "version_major": 2,
       "version_minor": 1
      },
      "text/plain": [
       "Map(center=[3899047.926834046, -12998800.702954108], extent={'xmin': -13068598.023681488, 'ymin': 3816090.6311…"
      ]
     },
     "execution_count": 13,
     "metadata": {},
     "output_type": "execute_result"
    }
   ],
   "source": [
    "er_map_n = gis.map(\"San Diego County, CA\")\n",
    "er_map_n.content.add(er_bands)\n",
    "er_map_n"
   ]
  },
  {
   "cell_type": "code",
   "execution_count": 14,
   "metadata": {},
   "outputs": [
    {
     "data": {
      "application/vnd.jupyter.widget-view+json": {
       "model_id": "cd8b99f1b587466e97ff59ff8fbb36d8",
       "version_major": 2,
       "version_minor": 1
      },
      "text/plain": [
       "Map(center=[3899047.926834046, -12998800.702954108], extent={'xmin': -13068598.023681488, 'ymin': 3816090.6311…"
      ]
     },
     "execution_count": 14,
     "metadata": {},
     "output_type": "execute_result"
    }
   ],
   "source": [
    "er_map_b = gis.map(\"San Diego County, CA\")\n",
    "er_map_b.content.add(er_binary)\n",
    "er_map_b"
   ]
  },
  {
   "cell_type": "code",
   "execution_count": 15,
   "metadata": {},
   "outputs": [],
   "source": [
    "#mapping all flooded locations to 0\n",
    "federal_binary = remap(\n",
    "    raster=sd_fl,\n",
    "    input_ranges=[0,1,1,1],\n",
    "    output_values=[0, 1],\n",
    ")\n",
    "federal_b = colormap(federal_binary, colormap=clrmap2)"
   ]
  },
  {
   "cell_type": "code",
   "execution_count": 16,
   "metadata": {},
   "outputs": [
    {
     "data": {
      "application/vnd.jupyter.widget-view+json": {
       "model_id": "dfc88bcfc3e34ef282d5dc7ae1483bf2",
       "version_major": 2,
       "version_minor": 1
      },
      "text/plain": [
       "Map(center=[3899047.926834046, -12998800.702954108], extent={'xmin': -13068598.023681488, 'ymin': 3816090.6311…"
      ]
     },
     "execution_count": 16,
     "metadata": {},
     "output_type": "execute_result"
    }
   ],
   "source": [
    "federal_map_b = gis.map(\"San Diego County, CA\")\n",
    "federal_map_b.content.add(federal_b)\n",
    "federal_map_b"
   ]
  },
  {
   "cell_type": "code",
   "execution_count": 17,
   "metadata": {},
   "outputs": [],
   "source": [
    "# Apply the remap functiond\n",
    "\n",
    "# 0 - Low Flood Hazard\n",
    "# 1 - 1% Annual Flood Hazard, Other\n",
    "sd_fh_normalized = remap(\n",
    "    raster=sd_fh,\n",
    "    input_ranges=[4,5, 12,13, 13,14, 15,16, 18,19, 30,31, 27,28, 40,41, 46,47, 49,50, 54,55, 59,60, 77,78, 81,82, 233,244],\n",
    "    output_values=[1, 1, 1, 1, 1, 0, 0, 0, 0, 0, 0, 0, 1, 0, 0],\n",
    "    allow_unmatched=False,\n",
    ")\n",
    "sd_fh_binary = colormap(sd_fh_normalized, colormap=clrmap2)"
   ]
  },
  {
   "cell_type": "code",
   "execution_count": 148,
   "metadata": {},
   "outputs": [
    {
     "data": {
      "text/plain": [
       "{'histograms': [{'size': 2,\n",
       "   'min': -0.5,\n",
       "   'max': 1.5,\n",
       "   'counts': [76667698, 80850739]}]}"
      ]
     },
     "execution_count": 148,
     "metadata": {},
     "output_type": "execute_result"
    }
   ],
   "source": [
    "sd_fh_normalized.compute_histograms(geometry=san_diego_geometry)"
   ]
  },
  {
   "cell_type": "code",
   "execution_count": 149,
   "metadata": {},
   "outputs": [
    {
     "name": "stdout",
     "output_type": "stream",
     "text": [
      "[2]\n",
      "[83]\n"
     ]
    }
   ],
   "source": [
    "print(sd_fh_normalized.properties.minValues)\n",
    "print(sd_fh_normalized.properties.maxValues)"
   ]
  },
  {
   "cell_type": "code",
   "execution_count": 146,
   "metadata": {},
   "outputs": [
    {
     "data": {
      "application/vnd.jupyter.widget-view+json": {
       "model_id": "186b9d3d562c43efa6e63712b5557fd2",
       "version_major": 2,
       "version_minor": 1
      },
      "text/plain": [
       "Map(center=[3899047.926834046, -12998800.702954108], extent={'xmin': -13068598.023681488, 'ymin': 3816090.6311…"
      ]
     },
     "execution_count": 146,
     "metadata": {},
     "output_type": "execute_result"
    }
   ],
   "source": [
    "sd_fh_map = gis.map(\"San Diego County, CA\")\n",
    "sd_fh_map.content.add(sd_fh_binary)\n",
    "sd_fh_map"
   ]
  },
  {
   "cell_type": "code",
   "execution_count": 19,
   "metadata": {},
   "outputs": [],
   "source": [
    "# remap the soil erodibility layer in binary and non-binary layers\n",
    "soil_normalized = remap(\n",
    "    raster=sd_er,\n",
    "    input_ranges=[\n",
    "        0.0,\n",
    "        8.0,\n",
    "        8.0,\n",
    "        13.0,\n",
    "        13.0,\n",
    "        18.0,\n",
    "        18.0,\n",
    "        23.0,\n",
    "        23.0,\n",
    "        28.0,\n",
    "        28.0,\n",
    "        33.0,\n",
    "        33.0,\n",
    "        38.0,\n",
    "        38.0,\n",
    "        43.0,\n",
    "        43.0,\n",
    "        64.0,\n",
    "    ],\n",
    "    output_values=[9, 8, 7, 6, 5, 4, 3, 2, 1],\n",
    ")\n",
    "soil_n_c = colormap(soil_normalized, colormap=clrmap9)\n",
    "\n",
    "soil_binary = remap(\n",
    "    raster=sd_er,\n",
    "    input_ranges=[0.0, 20.0, 20.0, 65.0],\n",
    "    output_values=[0, 1],\n",
    "    astype=\"U8\",\n",
    ")\n",
    "soil_b_c = colormap(soil_binary, colormap=clrmap2)\n"
   ]
  },
  {
   "cell_type": "code",
   "execution_count": 20,
   "metadata": {},
   "outputs": [
    {
     "data": {
      "text/plain": [
       "{'xmin': -117.597331316456,\n",
       " 'ymin': 32.5357813114211,\n",
       " 'xmax': -116.081552322368,\n",
       " 'ymax': 33.5103979030633,\n",
       " 'spatialReference': {'latestwkid': 3857, 'wkid': 102100}}"
      ]
     },
     "execution_count": 20,
     "metadata": {},
     "output_type": "execute_result"
    }
   ],
   "source": [
    "soil_n_c.extent"
   ]
  },
  {
   "cell_type": "code",
   "execution_count": 21,
   "metadata": {},
   "outputs": [
    {
     "data": {
      "application/vnd.jupyter.widget-view+json": {
       "model_id": "92a398c12f224da7aed25c1dd1a7f5cd",
       "version_major": 2,
       "version_minor": 1
      },
      "text/plain": [
       "Map(center=[3899047.926834046, -12998800.702954108], extent={'xmin': -13068598.023681488, 'ymin': 3816090.6311…"
      ]
     },
     "execution_count": 21,
     "metadata": {},
     "output_type": "execute_result"
    }
   ],
   "source": [
    "er_n_map = gis.map(\"San Diego County, CA\")\n",
    "er_n_map.content.add(soil_n_c)\n",
    "er_n_map"
   ]
  },
  {
   "cell_type": "code",
   "execution_count": 22,
   "metadata": {},
   "outputs": [
    {
     "data": {
      "application/vnd.jupyter.widget-view+json": {
       "model_id": "e8488e8b9d0d43849b70c045c7b1e8f5",
       "version_major": 2,
       "version_minor": 1
      },
      "text/plain": [
       "Map(center=[3899047.926834046, -12998800.702954108], extent={'xmin': -13068598.023681488, 'ymin': 3816090.6311…"
      ]
     },
     "execution_count": 22,
     "metadata": {},
     "output_type": "execute_result"
    }
   ],
   "source": [
    "er_b_map = gis.map(\"San Diego County, CA\")\n",
    "er_b_map.content.add(soil_b_c)\n",
    "er_b_map"
   ]
  },
  {
   "cell_type": "markdown",
   "metadata": {},
   "source": [
    "### Name the two map combination techniques you will use to combine the data and describe their pros and cons"
   ]
  },
  {
   "cell_type": "markdown",
   "metadata": {},
   "source": [
    "The two map combination techniques we will have use to combine the data are\n",
    "1) Exclusion Screening: We want areas that have good soil (1 or 0), low soil erodibility (1 or 0), low flood risk (1 or 0), a flat slope (1 or 0), and land area that is suitable for building a park (already defined in sd_lcg_binary, 1 or 0). To do this, let's use exclusionary screening to multiple 1s and 0s.\n",
    "2) Weighted Voting: We can also use the weighted voting contribution with our binary and non-binary attributes to determine which ImageryLayers are most important for a good park. For instance, we could weight having a flat slope and low flood risk as the most important features, and then the other layers can be supplementary to determine better locations."
   ]
  },
  {
   "cell_type": "code",
   "execution_count": 23,
   "metadata": {},
   "outputs": [],
   "source": [
    "from arcgis.raster.functions import raster_calculator\n",
    "from arcgis.raster.functions import extract_band"
   ]
  },
  {
   "cell_type": "code",
   "execution_count": 151,
   "metadata": {},
   "outputs": [],
   "source": [
    "# Generate a composite raster layer for your first map combination technique\n",
    "# land cover gap (1 is usable land, 0 is non-usable land)\n",
    "lcg_band = extract_band(sd_lcg_binary, [0])  \n",
    "# slope (1 is flat land, 0 is steep land)\n",
    "slope_binary_band = extract_band(slope_binary, [0])\n",
    "# errosion (1 is non-erroded land)\n",
    "er_binary_band = extract_band(er_binary, [0])\n",
    "# flood hazards (1 is low risk land, 0 is risky land)\n",
    "fh_band = extract_band(sd_fh_normalized, [0])\n",
    "# soil erodibility (1 is land w/low erodibility, 0 has higher chance of errosion)\n",
    "soil_b_band = extract_band(soil_binary, [0])"
   ]
  },
  {
   "cell_type": "code",
   "execution_count": 172,
   "metadata": {},
   "outputs": [],
   "source": [
    "result1 = raster_calculator(\n",
    "    rasters=[lcg_band, fh_band],  # list of rasters\n",
    "    input_names=[\"cover\", \"flood\"],  # variable names to use in expression\n",
    "    expression=\"(cover) + (flood)\",  # the arithmetic expression\n",
    "    extent_type = \"UnionOf\",\n",
    "    #cellsize_type = \"MaxOf\",\n",
    "    astype = \"U8\"\n",
    ")"
   ]
  },
  {
   "cell_type": "code",
   "execution_count": 173,
   "metadata": {},
   "outputs": [
    {
     "name": "stdout",
     "output_type": "stream",
     "text": [
      "[-450]\n",
      "[8700]\n"
     ]
    }
   ],
   "source": [
    "print(slope_binary_band.properties.minValues)\n",
    "print(slope_binary_band.properties.maxValues)"
   ]
  },
  {
   "cell_type": "code",
   "execution_count": 174,
   "metadata": {},
   "outputs": [
    {
     "data": {
      "text/plain": [
       "{'extent': {'xmin': -2290889.2101138067,\n",
       "  'ymin': -1726385.2485951362,\n",
       "  'xmax': 2198700.7898861933,\n",
       "  'ymax': 1472154.7514048638,\n",
       "  'spatialReference': {'wkid': 102008, 'latestWkid': 102008}},\n",
       " 'bandCount': 1,\n",
       " 'pixelType': 'S16',\n",
       " 'pixelSizeX': 30,\n",
       " 'pixelSizeY': 30}"
      ]
     },
     "execution_count": 174,
     "metadata": {},
     "output_type": "execute_result"
    }
   ],
   "source": [
    "result1.raster_info"
   ]
  },
  {
   "cell_type": "code",
   "execution_count": 175,
   "metadata": {},
   "outputs": [
    {
     "data": {
      "application/vnd.jupyter.widget-view+json": {
       "model_id": "66d1e3fd3a474dffbcddcea4ce43f474",
       "version_major": 2,
       "version_minor": 1
      },
      "text/plain": [
       "Map(center=[3857636.3466711883, -13042616.481232138], extent={'xmin': -13075789.689488532, 'ymin': 3818273.910…"
      ]
     },
     "execution_count": 175,
     "metadata": {},
     "output_type": "execute_result"
    }
   ],
   "source": [
    "map6 = gis.map(\"San Diego, CA\")\n",
    "map6.content.add(result1)\n",
    "map6"
   ]
  },
  {
   "cell_type": "code",
   "execution_count": 28,
   "metadata": {},
   "outputs": [],
   "source": [
    "# Generate a composite raster layer for your second map combination technique\n"
   ]
  },
  {
   "cell_type": "markdown",
   "metadata": {},
   "source": [
    "## Task 3: Compare the results (5 points)\n",
    "... and describe how different combination techniques resulted in different outputs (or not.) "
   ]
  },
  {
   "cell_type": "markdown",
   "metadata": {},
   "source": [
    "Your text here\n"
   ]
  },
  {
   "cell_type": "code",
   "execution_count": 29,
   "metadata": {},
   "outputs": [],
   "source": [
    "## Timekeeping\n",
    "# Please let us know how much time you spent on this project, in hours: \n",
    "# (we will only examine distributions and won't look at individual responses)\n",
    "\n",
    "assignment_timespent = 0"
   ]
  },
  {
   "cell_type": "code",
   "execution_count": null,
   "metadata": {},
   "outputs": [],
   "source": []
  }
 ],
 "metadata": {
  "kernelspec": {
   "display_name": "3.11.9",
   "language": "python",
   "name": "python3"
  },
  "language_info": {
   "codemirror_mode": {
    "name": "ipython",
    "version": 3
   },
   "file_extension": ".py",
   "mimetype": "text/x-python",
   "name": "python",
   "nbconvert_exporter": "python",
   "pygments_lexer": "ipython3",
   "version": "3.11.9"
  },
  "toc": {
   "base_numbering": 1,
   "nav_menu": {},
   "number_sections": false,
   "sideBar": true,
   "skip_h1_title": true,
   "title_cell": "Table of Contents",
   "title_sidebar": "Contents",
   "toc_cell": false,
   "toc_position": {},
   "toc_section_display": true,
   "toc_window_display": true
  }
 },
 "nbformat": 4,
 "nbformat_minor": 4
}
